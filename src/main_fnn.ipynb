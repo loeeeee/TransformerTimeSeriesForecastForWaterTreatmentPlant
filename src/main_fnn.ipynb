{
 "cells": [
  {
   "cell_type": "code",
   "execution_count": null,
   "metadata": {},
   "outputs": [],
   "source": [
    "import settings\n",
    "\n",
    "import os\n",
    "\n",
    "import torch\n",
    "\n",
    "import pandas as pd\n",
    "\n",
    "from torch import nn\n",
    "from helper import *\n",
    "from datetime import datetime\n",
    "from torch.utils.data import DataLoader\n",
    "from utils import GenericDataFrameDataset\n",
    "\n",
    "# Get the current timestamp\n",
    "current_time = datetime.now()\n",
    "# Format the timestamp as YY-MM-DD-HH-MM\n",
    "formatted_time = current_time.strftime(\"%y-%m-%d-%H-%M\")\n",
    "MODEL_NAME = f\"fnn_{formatted_time}\"\n",
    "VISUAL_DIR = settings.VISUAL_DIR\n",
    "DATA_DIR = settings.DATA_DIR\n",
    "MODEL_DIR = settings.MODEL_DIR\n",
    "# Create working dir\n",
    "WORKING_DIR = os.path.join(MODEL_DIR, MODEL_NAME)\n",
    "create_folder_if_not_exists(WORKING_DIR)"
   ]
  },
  {
   "cell_type": "code",
   "execution_count": null,
   "metadata": {},
   "outputs": [],
   "source": [
    "DATA_PATH = os.path.join(DATA_DIR, \"processed.csv\")\n",
    "DATA_SPLIT_RATIO = 0.7\n",
    "RAW_COLUMNS = [\n",
    "    \"inlet flow\",\n",
    "    \"inlet COD\",\n",
    "    \"inlet ammonia nitrogen\",\n",
    "    \"inlet total nitrogen\",\n",
    "    \"inlet phosphorus\",\n",
    "    \"outlet COD\",\n",
    "    \"outlet ammonia nitrogen\",\n",
    "    \"outlet total nitrogen\",\n",
    "    \"outlet phosphorus\",\n",
    "    \"line 1 nitrate nitrogen\",\n",
    "    \"line 2 nitrate nitrogen\",\n",
    "    \"line 1 pump speed\",\n",
    "    \"line 2 pump speed\",\n",
    "    \"PAC pump 1 speed\",\n",
    "    \"PAC pump 2 speed\",\n",
    "]\n",
    "\n",
    "X_COLUMNS = RAW_COLUMNS[:-4]\n",
    "Y_COLUMNS = RAW_COLUMNS[-4:]\n",
    "\n",
    "TGT_COLUMNS = \"line 1 pump speed discrete\"\n",
    "BATCH_SIZE = 32"
   ]
  },
  {
   "cell_type": "code",
   "execution_count": null,
   "metadata": {},
   "outputs": [],
   "source": [
    "def load_data(data_path) -> pd.DataFrame:\n",
    "    data = pd.read_csv(\n",
    "        data_path,\n",
    "        low_memory=False,\n",
    "        index_col=0,\n",
    "        parse_dates=[\"timestamp\"],\n",
    "    )\n",
    "    train_size = int(data.shape[0] * DATA_SPLIT_RATIO)\n",
    "    val_size = data.shape[0] - train_size\n",
    "    train_data = pd.concat([data[:int(train_size/2)], data[int(train_size/2)+val_size:]])\n",
    "    val_data = data[int(train_size/2):int(train_size/2)+val_size]\n",
    "    return train_data, val_data\n",
    "\n",
    "train_data, val_data = load_data(DATA_PATH)"
   ]
  },
  {
   "cell_type": "code",
   "execution_count": null,
   "metadata": {},
   "outputs": [],
   "source": [
    "train_data.info()"
   ]
  },
  {
   "cell_type": "code",
   "execution_count": null,
   "metadata": {},
   "outputs": [],
   "source": [
    "val_data.info()"
   ]
  },
  {
   "cell_type": "code",
   "execution_count": null,
   "metadata": {},
   "outputs": [],
   "source": [
    "def dataframe_to_loader(dataframe_X: pd.DataFrame, dataframe_y: pd.DataFrame, batch_size: int = 256) -> DataLoader:\n",
    "    # Dataset\n",
    "    dataset = GenericDataFrameDataset(dataframe_X, dataframe_y)\n",
    "    loader = DataLoader(dataset, batch_size = batch_size, shuffle=True)\n",
    "    return loader\n",
    "\n",
    "train_loader = dataframe_to_loader(train_data[X_COLUMNS], train_data[TGT_COLUMNS])\n",
    "val_data = dataframe_to_loader(val_data[X_COLUMNS], val_data[TGT_COLUMNS])"
   ]
  },
  {
   "cell_type": "code",
   "execution_count": null,
   "metadata": {},
   "outputs": [],
   "source": []
  }
 ],
 "metadata": {
  "kernelspec": {
   "display_name": ".env",
   "language": "python",
   "name": "python3"
  },
  "language_info": {
   "name": "python",
   "version": "3.11.4"
  },
  "orig_nbformat": 4
 },
 "nbformat": 4,
 "nbformat_minor": 2
}
