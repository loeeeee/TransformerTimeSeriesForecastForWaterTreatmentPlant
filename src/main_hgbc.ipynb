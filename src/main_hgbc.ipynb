{
 "cells": [
  {
   "cell_type": "code",
   "execution_count": 1,
   "metadata": {},
   "outputs": [
    {
     "name": "stdout",
     "output_type": "stream",
     "text": [
      "[INFO] Settings: Start initializing.\n",
      "[INFO] Settings: Folder already exists in Dir /home/loe/Documents/Beijing-Internship/work/project/demo_re/src/../config/, skipping creation.\n",
      "[INFO] Settings: Reading from file.\n",
      "[INFO] Settings: Performing integrity check.\n",
      "[INFO] Settings: New config file generated.\n",
      "[INFO] Settings: Apply environment variable.\n",
      "[INFO] Settings: Folder already exists in Dir /home/loe/Documents/Beijing-Internship/work/project/demo_re/src/../data/, skipping creation.\n",
      "[INFO] Settings: Folder already exists in Dir /home/loe/Documents/Beijing-Internship/work/project/demo_re/src/../raw/, skipping creation.\n",
      "[INFO] Settings: Folder already exists in Dir /home/loe/Documents/Beijing-Internship/work/project/demo_re/src/../config/, skipping creation.\n",
      "[INFO] Settings: Folder already exists in Dir /home/loe/Documents/Beijing-Internship/work/project/demo_re/src/../model/, skipping creation.\n",
      "[INFO] Settings: Folder already exists in Dir /home/loe/Documents/Beijing-Internship/work/project/demo_re/src/../visual/, skipping creation.\n",
      "[INFO] Settings: Folder already exists in Dir /home/loe/Documents/Beijing-Internship/work/project/demo_re/src/../range/, skipping creation.\n",
      "[INFO] Settings: ROOT_DIR - /home/loe/Documents/Beijing-Internship/work/project/demo_re/src/../\n",
      "[INFO] Settings: DATA_DIR - /home/loe/Documents/Beijing-Internship/work/project/demo_re/src/../data/\n",
      "[INFO] Settings: CONFIG_DIR - /home/loe/Documents/Beijing-Internship/work/project/demo_re/src/../config/\n",
      "[INFO] Settings: VISUAL_DIR - /home/loe/Documents/Beijing-Internship/work/project/demo_re/src/../visual/\n",
      "[INFO] Settings: SRC_DIR - /home/loe/Documents/Beijing-Internship/work/project/demo_re/src/../src/\n",
      "[INFO] Settings: MODEL_DIR - /home/loe/Documents/Beijing-Internship/work/project/demo_re/src/../model/\n",
      "[INFO] Settings: RANGE_DIR - /home/loe/Documents/Beijing-Internship/work/project/demo_re/src/../range/\n",
      "[INFO] Settings: RAW_DIR - /home/loe/Documents/Beijing-Internship/work/project/demo_re/src/../raw/\n",
      "[INFO] Settings: DEVICE - cuda\n",
      "[INFO] Settings: Finish initializing.\n"
     ]
    }
   ],
   "source": [
    "import settings\n",
    "\n",
    "import os\n",
    "\n",
    "import pandas as pd\n",
    "\n",
    "from sklearn.ensemble import HistGradientBoostingClassifier\n",
    "\n",
    "DATA_DIR = settings.DATA_DIR"
   ]
  },
  {
   "cell_type": "code",
   "execution_count": 2,
   "metadata": {},
   "outputs": [],
   "source": [
    "DATA_PATH = os.path.join(DATA_DIR, \"processed.csv\")\n",
    "DATA_SPLIT_RATIO = 0.7\n",
    "RAW_COLUMNS = [\n",
    "    \"inlet flow\",\n",
    "    \"inlet COD\",\n",
    "    \"inlet ammonia nitrogen\",\n",
    "    \"inlet total nitrogen\",\n",
    "    \"inlet phosphorus\",\n",
    "    \"outlet COD\",\n",
    "    \"outlet ammonia nitrogen\",\n",
    "    \"outlet total nitrogen\",\n",
    "    \"outlet phosphorus\",\n",
    "    \"line 1 nitrate nitrogen\",\n",
    "    \"line 2 nitrate nitrogen\",\n",
    "    \"line 1 pump speed\",\n",
    "    \"line 2 pump speed\",\n",
    "    \"PAC pump 1 speed\",\n",
    "    \"PAC pump 2 speed\",\n",
    "]\n",
    "\n",
    "X_COLUMNS = RAW_COLUMNS[:-4]\n",
    "Y_COLUMNS = RAW_COLUMNS[-4:]\n",
    "\n",
    "TGT_COLUMNS = \"line 1 pump speed discrete\""
   ]
  },
  {
   "cell_type": "code",
   "execution_count": 3,
   "metadata": {},
   "outputs": [],
   "source": [
    "def load_data(data_path) -> pd.DataFrame:\n",
    "    data = pd.read_csv(\n",
    "        data_path,\n",
    "        low_memory=False,\n",
    "        index_col=0,\n",
    "        parse_dates=[\"timestamp\"],\n",
    "    )\n",
    "    train_size = int(data.shape[0] * DATA_SPLIT_RATIO)\n",
    "    val_size = data.shape[0] - train_size\n",
    "    train_data = pd.concat([data[:int(train_size/2)], data[int(train_size/2)+val_size:]])\n",
    "    val_data = data[int(train_size/2):int(train_size/2)+val_size]\n",
    "    return train_data, val_data\n",
    "\n",
    "train_data, val_data = load_data(DATA_PATH)"
   ]
  },
  {
   "cell_type": "code",
   "execution_count": 4,
   "metadata": {},
   "outputs": [
    {
     "name": "stdout",
     "output_type": "stream",
     "text": [
      "<class 'pandas.core.frame.DataFrame'>\n",
      "DatetimeIndex: 45493 entries, 2021-01-25 17:08:00 to 2022-09-01 17:10:00\n",
      "Data columns (total 16 columns):\n",
      " #   Column                      Non-Null Count  Dtype  \n",
      "---  ------                      --------------  -----  \n",
      " 0   inlet flow                  36920 non-null  float64\n",
      " 1   inlet COD                   45490 non-null  float64\n",
      " 2   inlet ammonia nitrogen      45490 non-null  float64\n",
      " 3   inlet total nitrogen        45102 non-null  float64\n",
      " 4   inlet phosphorus            45193 non-null  float64\n",
      " 5   outlet COD                  44956 non-null  float64\n",
      " 6   outlet ammonia nitrogen     37037 non-null  float64\n",
      " 7   outlet total nitrogen       45387 non-null  float64\n",
      " 8   outlet phosphorus           45385 non-null  float64\n",
      " 9   line 1 nitrate nitrogen     45493 non-null  float64\n",
      " 10  line 2 nitrate nitrogen     45493 non-null  float64\n",
      " 11  line 1 pump speed           45493 non-null  float64\n",
      " 12  line 2 pump speed           45493 non-null  float64\n",
      " 13  PAC pump 1 speed            45493 non-null  float64\n",
      " 14  PAC pump 2 speed            45493 non-null  float64\n",
      " 15  line 1 pump speed discrete  45493 non-null  float64\n",
      "dtypes: float64(16)\n",
      "memory usage: 5.9 MB\n"
     ]
    }
   ],
   "source": [
    "train_data.info()"
   ]
  },
  {
   "cell_type": "code",
   "execution_count": 5,
   "metadata": {},
   "outputs": [
    {
     "name": "stdout",
     "output_type": "stream",
     "text": [
      "<class 'pandas.core.frame.DataFrame'>\n",
      "DatetimeIndex: 19497 entries, 2021-11-09 11:20:00 to 2022-03-26 19:00:00\n",
      "Data columns (total 16 columns):\n",
      " #   Column                      Non-Null Count  Dtype  \n",
      "---  ------                      --------------  -----  \n",
      " 0   inlet flow                  19456 non-null  float64\n",
      " 1   inlet COD                   19492 non-null  float64\n",
      " 2   inlet ammonia nitrogen      19497 non-null  float64\n",
      " 3   inlet total nitrogen        18749 non-null  float64\n",
      " 4   inlet phosphorus            18857 non-null  float64\n",
      " 5   outlet COD                  19449 non-null  float64\n",
      " 6   outlet ammonia nitrogen     13364 non-null  float64\n",
      " 7   outlet total nitrogen       19394 non-null  float64\n",
      " 8   outlet phosphorus           19452 non-null  float64\n",
      " 9   line 1 nitrate nitrogen     19497 non-null  float64\n",
      " 10  line 2 nitrate nitrogen     19497 non-null  float64\n",
      " 11  line 1 pump speed           19497 non-null  float64\n",
      " 12  line 2 pump speed           19497 non-null  float64\n",
      " 13  PAC pump 1 speed            19497 non-null  float64\n",
      " 14  PAC pump 2 speed            19497 non-null  float64\n",
      " 15  line 1 pump speed discrete  19497 non-null  float64\n",
      "dtypes: float64(16)\n",
      "memory usage: 2.5 MB\n"
     ]
    }
   ],
   "source": [
    "val_data.info()"
   ]
  },
  {
   "cell_type": "code",
   "execution_count": 17,
   "metadata": {},
   "outputs": [
    {
     "name": "stdout",
     "output_type": "stream",
     "text": [
      "0.08283325639842026\n"
     ]
    }
   ],
   "source": [
    "hgbc = HistGradientBoostingClassifier(\n",
    "    max_iter=200,\n",
    "    learning_rate=0.01,\n",
    ")\n",
    "train_data_X = train_data[X_COLUMNS].to_numpy()\n",
    "train_data_y = train_data[TGT_COLUMNS].to_numpy()\n",
    "hgbc.fit(train_data_X, train_data_y)\n",
    "val_data_X = val_data[X_COLUMNS].to_numpy()\n",
    "val_data_y = val_data[TGT_COLUMNS].to_numpy()\n",
    "prediction = hgbc.predict(val_data_X)\n",
    "accuracy = ((prediction==val_data_y).sum()) / val_data_y.shape[0]\n",
    "print(accuracy)"
   ]
  }
 ],
 "metadata": {
  "kernelspec": {
   "display_name": ".env",
   "language": "python",
   "name": "python3"
  },
  "language_info": {
   "codemirror_mode": {
    "name": "ipython",
    "version": 3
   },
   "file_extension": ".py",
   "mimetype": "text/x-python",
   "name": "python",
   "nbconvert_exporter": "python",
   "pygments_lexer": "ipython3",
   "version": "3.11.4"
  },
  "orig_nbformat": 4
 },
 "nbformat": 4,
 "nbformat_minor": 2
}
