{
 "cells": [
  {
   "cell_type": "code",
   "execution_count": 5,
   "metadata": {},
   "outputs": [],
   "source": [
    "from prophet import Prophet\n",
    "import settings\n",
    "import pandas as pd\n",
    "import numpy as np\n",
    "import os\n",
    "\n",
    "DATA_DIR = settings.DATA_DIR"
   ]
  },
  {
   "cell_type": "code",
   "execution_count": 6,
   "metadata": {},
   "outputs": [],
   "source": [
    "DATA_PATH = os.path.join(DATA_DIR, \"processed.csv\")\n",
    "DATA_SPLIT_RATIO = 0.7\n",
    "RAW_COLUMNS = [\n",
    "    \"inlet flow\",\n",
    "    \"inlet COD\",\n",
    "    \"inlet ammonia nitrogen\",\n",
    "    \"inlet total nitrogen\",\n",
    "    \"inlet phosphorus\",\n",
    "    \"outlet COD\",\n",
    "    \"outlet ammonia nitrogen\",\n",
    "    \"outlet total nitrogen\",\n",
    "    \"outlet phosphorus\",\n",
    "    \"line 1 nitrate nitrogen\",\n",
    "    \"line 2 nitrate nitrogen\",\n",
    "    \"line 1 pump speed\",\n",
    "    \"line 2 pump speed\",\n",
    "    \"PAC pump 1 speed\",\n",
    "    \"PAC pump 2 speed\",\n",
    "]\n",
    "\n",
    "X_COLUMNS = RAW_COLUMNS[:-4]\n",
    "Y_COLUMNS = RAW_COLUMNS[-4:]\n",
    "\n",
    "TGT_COLUMNS = \"line 1 pump speed discrete\""
   ]
  },
  {
   "cell_type": "code",
   "execution_count": 7,
   "metadata": {},
   "outputs": [],
   "source": [
    "def load_data(data_path) -> pd.DataFrame:\n",
    "    data = pd.read_csv(\n",
    "        data_path,\n",
    "        low_memory=False,\n",
    "        index_col=0,\n",
    "        parse_dates=[\"timestamp\"],\n",
    "    )\n",
    "    train_size = int(data.shape[0] * DATA_SPLIT_RATIO)\n",
    "    val_size = data.shape[0] - train_size\n",
    "    train_data = pd.concat([data[:int(train_size/2)], data[int(train_size/2)+val_size:]])\n",
    "    val_data = data[int(train_size/2):int(train_size/2)+val_size]\n",
    "    return train_data, val_data\n",
    "\n",
    "train_data, val_data = load_data(DATA_PATH)"
   ]
  },
  {
   "cell_type": "code",
   "execution_count": 8,
   "metadata": {},
   "outputs": [
    {
     "name": "stdout",
     "output_type": "stream",
     "text": [
      "<class 'pandas.core.frame.DataFrame'>\n",
      "DatetimeIndex: 45493 entries, 2021-01-25 17:08:00 to 2022-09-01 17:10:00\n",
      "Data columns (total 16 columns):\n",
      " #   Column                      Non-Null Count  Dtype  \n",
      "---  ------                      --------------  -----  \n",
      " 0   inlet flow                  36920 non-null  float64\n",
      " 1   inlet COD                   45490 non-null  float64\n",
      " 2   inlet ammonia nitrogen      45490 non-null  float64\n",
      " 3   inlet total nitrogen        45102 non-null  float64\n",
      " 4   inlet phosphorus            45193 non-null  float64\n",
      " 5   outlet COD                  44956 non-null  float64\n",
      " 6   outlet ammonia nitrogen     37037 non-null  float64\n",
      " 7   outlet total nitrogen       45387 non-null  float64\n",
      " 8   outlet phosphorus           45385 non-null  float64\n",
      " 9   line 1 nitrate nitrogen     45493 non-null  float64\n",
      " 10  line 2 nitrate nitrogen     45493 non-null  float64\n",
      " 11  line 1 pump speed           45493 non-null  float64\n",
      " 12  line 2 pump speed           45493 non-null  float64\n",
      " 13  PAC pump 1 speed            45493 non-null  float64\n",
      " 14  PAC pump 2 speed            45493 non-null  float64\n",
      " 15  line 1 pump speed discrete  45493 non-null  float64\n",
      "dtypes: float64(16)\n",
      "memory usage: 5.9 MB\n"
     ]
    }
   ],
   "source": [
    "train_data.info()"
   ]
  },
  {
   "cell_type": "code",
   "execution_count": 9,
   "metadata": {},
   "outputs": [
    {
     "name": "stdout",
     "output_type": "stream",
     "text": [
      "<class 'pandas.core.frame.DataFrame'>\n",
      "DatetimeIndex: 19497 entries, 2021-11-09 11:20:00 to 2022-03-26 19:00:00\n",
      "Data columns (total 16 columns):\n",
      " #   Column                      Non-Null Count  Dtype  \n",
      "---  ------                      --------------  -----  \n",
      " 0   inlet flow                  19456 non-null  float64\n",
      " 1   inlet COD                   19492 non-null  float64\n",
      " 2   inlet ammonia nitrogen      19497 non-null  float64\n",
      " 3   inlet total nitrogen        18749 non-null  float64\n",
      " 4   inlet phosphorus            18857 non-null  float64\n",
      " 5   outlet COD                  19449 non-null  float64\n",
      " 6   outlet ammonia nitrogen     13364 non-null  float64\n",
      " 7   outlet total nitrogen       19394 non-null  float64\n",
      " 8   outlet phosphorus           19452 non-null  float64\n",
      " 9   line 1 nitrate nitrogen     19497 non-null  float64\n",
      " 10  line 2 nitrate nitrogen     19497 non-null  float64\n",
      " 11  line 1 pump speed           19497 non-null  float64\n",
      " 12  line 2 pump speed           19497 non-null  float64\n",
      " 13  PAC pump 1 speed            19497 non-null  float64\n",
      " 14  PAC pump 2 speed            19497 non-null  float64\n",
      " 15  line 1 pump speed discrete  19497 non-null  float64\n",
      "dtypes: float64(16)\n",
      "memory usage: 2.5 MB\n"
     ]
    }
   ],
   "source": [
    "val_data.info()"
   ]
  },
  {
   "cell_type": "code",
   "execution_count": 10,
   "metadata": {},
   "outputs": [
    {
     "ename": "ValueError",
     "evalue": "Dataframe must have columns \"ds\" and \"y\" with the dates and values respectively.",
     "output_type": "error",
     "traceback": [
      "\u001b[0;31m---------------------------------------------------------------------------\u001b[0m",
      "\u001b[0;31mValueError\u001b[0m                                Traceback (most recent call last)",
      "Cell \u001b[0;32mIn[10], line 2\u001b[0m\n\u001b[1;32m      1\u001b[0m ph \u001b[39m=\u001b[39m Prophet()\n\u001b[0;32m----> 2\u001b[0m ph\u001b[39m.\u001b[39;49mfit(train_data)\n",
      "File \u001b[0;32m~/Documents/Beijing-Internship/work/project/demo_re/.env/lib/python3.11/site-packages/prophet/forecaster.py:1117\u001b[0m, in \u001b[0;36mProphet.fit\u001b[0;34m(self, df, **kwargs)\u001b[0m\n\u001b[1;32m   1114\u001b[0m     \u001b[39mraise\u001b[39;00m \u001b[39mException\u001b[39;00m(\u001b[39m'\u001b[39m\u001b[39mProphet object can only be fit once. \u001b[39m\u001b[39m'\u001b[39m\n\u001b[1;32m   1115\u001b[0m                     \u001b[39m'\u001b[39m\u001b[39mInstantiate a new object.\u001b[39m\u001b[39m'\u001b[39m)\n\u001b[1;32m   1116\u001b[0m \u001b[39mif\u001b[39;00m (\u001b[39m'\u001b[39m\u001b[39mds\u001b[39m\u001b[39m'\u001b[39m \u001b[39mnot\u001b[39;00m \u001b[39min\u001b[39;00m df) \u001b[39mor\u001b[39;00m (\u001b[39m'\u001b[39m\u001b[39my\u001b[39m\u001b[39m'\u001b[39m \u001b[39mnot\u001b[39;00m \u001b[39min\u001b[39;00m df):\n\u001b[0;32m-> 1117\u001b[0m     \u001b[39mraise\u001b[39;00m \u001b[39mValueError\u001b[39;00m(\n\u001b[1;32m   1118\u001b[0m         \u001b[39m'\u001b[39m\u001b[39mDataframe must have columns \u001b[39m\u001b[39m\"\u001b[39m\u001b[39mds\u001b[39m\u001b[39m\"\u001b[39m\u001b[39m and \u001b[39m\u001b[39m\"\u001b[39m\u001b[39my\u001b[39m\u001b[39m\"\u001b[39m\u001b[39m with the dates and \u001b[39m\u001b[39m'\u001b[39m\n\u001b[1;32m   1119\u001b[0m         \u001b[39m'\u001b[39m\u001b[39mvalues respectively.\u001b[39m\u001b[39m'\u001b[39m\n\u001b[1;32m   1120\u001b[0m     )\n\u001b[1;32m   1121\u001b[0m history \u001b[39m=\u001b[39m df[df[\u001b[39m'\u001b[39m\u001b[39my\u001b[39m\u001b[39m'\u001b[39m]\u001b[39m.\u001b[39mnotnull()]\u001b[39m.\u001b[39mcopy()\n\u001b[1;32m   1122\u001b[0m \u001b[39mif\u001b[39;00m history\u001b[39m.\u001b[39mshape[\u001b[39m0\u001b[39m] \u001b[39m<\u001b[39m \u001b[39m2\u001b[39m:\n",
      "\u001b[0;31mValueError\u001b[0m: Dataframe must have columns \"ds\" and \"y\" with the dates and values respectively."
     ]
    }
   ],
   "source": [
    "ph = Prophet()\n",
    "ph.fit(train_data)"
   ]
  }
 ],
 "metadata": {
  "kernelspec": {
   "display_name": ".env",
   "language": "python",
   "name": "python3"
  },
  "language_info": {
   "codemirror_mode": {
    "name": "ipython",
    "version": 3
   },
   "file_extension": ".py",
   "mimetype": "text/x-python",
   "name": "python",
   "nbconvert_exporter": "python",
   "pygments_lexer": "ipython3",
   "version": "3.11.4"
  },
  "orig_nbformat": 4
 },
 "nbformat": 4,
 "nbformat_minor": 2
}
